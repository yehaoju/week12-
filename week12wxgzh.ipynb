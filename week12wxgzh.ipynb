{
 "cells": [
  {
   "cell_type": "code",
   "execution_count": 101,
   "metadata": {},
   "outputs": [
    {
     "name": "stderr",
     "output_type": "stream",
     "text": [
      "<ipython-input-101-8ae4025e7ff4>:19: DeprecationWarning: use options instead of chrome_options\n",
      "  driver = webdriver.Chrome( chrome_options = opts) #desired_capabilities=caps,\n"
     ]
    }
   ],
   "source": [
    "from selenium import webdriver\n",
    "from selenium.webdriver.common.desired_capabilities import DesiredCapabilities\n",
    "opts = webdriver.ChromeOptions()\n",
    "opts.add_argument('--no-sandbox')\n",
    "opts.add_argument('window-size=1920x3000')\n",
    "opts.add_argument('--disable-gpu') \n",
    "opts.add_argument('--hide-scrollbars')\n",
    "\n",
    "driver = webdriver.Chrome( chrome_options = opts) #desired_capabilities=caps,"
   ]
  },
  {
   "cell_type": "code",
   "execution_count": 102,
   "metadata": {},
   "outputs": [],
   "source": [
    "driver.get(\"https://mp.weixin.qq.com\")"
   ]
  },
  {
   "cell_type": "code",
   "execution_count": 103,
   "metadata": {},
   "outputs": [],
   "source": [
    "element = driver.find_element_by_xpath('//a[@class=\"login__type__container__select-type\"]')\n",
    "element.get_attribute(\"innerHTML\")\n",
    "element.click()"
   ]
  },
  {
   "cell_type": "code",
   "execution_count": 104,
   "metadata": {},
   "outputs": [],
   "source": [
    "## 清空账号input\n",
    "driver.find_element_by_xpath('//form[@class=\"login_form\"]//input[@name=\"account\"]').clear()"
   ]
  },
  {
   "cell_type": "code",
   "execution_count": 105,
   "metadata": {},
   "outputs": [],
   "source": [
    "driver.find_element_by_xpath('//form[@class=\"login_form\"]//input[@name=\"account\"]').send_keys(payload['account'])"
   ]
  },
  {
   "cell_type": "code",
   "execution_count": 106,
   "metadata": {},
   "outputs": [],
   "source": [
    "## 清空密码input\n",
    "driver.find_element_by_xpath('//form[@class=\"login_form\"]//input[@name=\"password\"]').clear()"
   ]
  },
  {
   "cell_type": "code",
   "execution_count": 107,
   "metadata": {},
   "outputs": [],
   "source": [
    "driver.find_element_by_xpath('//form[@class=\"login_form\"]//input[@name=\"password\"]').send_keys(payload['password'])"
   ]
  },
  {
   "cell_type": "code",
   "execution_count": 108,
   "metadata": {},
   "outputs": [],
   "source": [
    "driver.find_element_by_xpath('//div[@class=\"login_btn_panel\"]/a').click()"
   ]
  },
  {
   "cell_type": "code",
   "execution_count": 27,
   "metadata": {},
   "outputs": [
    {
     "ename": "SyntaxError",
     "evalue": "invalid character in identifier (<ipython-input-27-22273e26068f>, line 1)",
     "output_type": "error",
     "traceback": [
      "\u001b[1;36m  File \u001b[1;32m\"<ipython-input-27-22273e26068f>\"\u001b[1;36m, line \u001b[1;32m1\u001b[0m\n\u001b[1;33m    * 图文素材——>新建图文模版——>超链接——>选择其他公众号——>input——>搜索\u001b[0m\n\u001b[1;37m           ^\u001b[0m\n\u001b[1;31mSyntaxError\u001b[0m\u001b[1;31m:\u001b[0m invalid character in identifier\n"
     ]
    }
   ],
   "source": [
    "* 图文素材——>新建图文模版——>超链接——>选择其他公众号——>input——>搜索       "
   ]
  },
  {
   "cell_type": "code",
   "execution_count": 111,
   "metadata": {},
   "outputs": [],
   "source": [
    "element = driver.find_element_by_xpath('//*[@id=\"menuBar\"]/li[2]/ul/li[1]/a/span/span')\n",
    "element.get_attribute(\"interHTML\")\n",
    "element.click()"
   ]
  },
  {
   "cell_type": "code",
   "execution_count": 112,
   "metadata": {},
   "outputs": [],
   "source": [
    "element = driver.find_element_by_xpath('//*[@id=\"js_main\"]/div[3]/div[2]/div/div/div/div[1]/div/div/div[1]')\n",
    "element.get_attribute(\"interHTML\")\n",
    "element.click()"
   ]
  },
  {
   "cell_type": "code",
   "execution_count": 117,
   "metadata": {},
   "outputs": [],
   "source": [
    "element = driver.find_element_by_xpath('//*[@id=\"js_main\"]/div[3]/div[2]/div/div/div/div[1]/div/div/div[2]/ul/li[1]/a')\n",
    "element.get_attribute(\"interHTML\")\n",
    "element.click()"
   ]
  },
  {
   "cell_type": "code",
   "execution_count": 118,
   "metadata": {},
   "outputs": [
    {
     "data": {
      "text/plain": [
       "'CDwindow-A7AD6D5C54D9A3B94526BBEF93919256'"
      ]
     },
     "execution_count": 118,
     "metadata": {},
     "output_type": "execute_result"
    }
   ],
   "source": [
    "driver.current_window_handle"
   ]
  },
  {
   "cell_type": "code",
   "execution_count": 119,
   "metadata": {},
   "outputs": [
    {
     "data": {
      "text/plain": [
       "['CDwindow-A7AD6D5C54D9A3B94526BBEF93919256',\n",
       " 'CDwindow-8A9785AEC0ABA20696667AAE836CCF84']"
      ]
     },
     "execution_count": 119,
     "metadata": {},
     "output_type": "execute_result"
    }
   ],
   "source": [
    "driver.window_handles"
   ]
  },
  {
   "cell_type": "code",
   "execution_count": 120,
   "metadata": {},
   "outputs": [
    {
     "name": "stderr",
     "output_type": "stream",
     "text": [
      "<ipython-input-120-2c997ac77236>:2: DeprecationWarning: use driver.switch_to.window instead\n",
      "  driver.switch_to_window(driver.window_handles[1])\n"
     ]
    }
   ],
   "source": [
    "#切换窗口\n",
    "driver.switch_to_window(driver.window_handles[1])"
   ]
  },
  {
   "cell_type": "code",
   "execution_count": 121,
   "metadata": {},
   "outputs": [],
   "source": [
    "element = driver.find_element_by_xpath('//*[@id=\"js_editor_insertlink\"]')\n",
    "element.get_attribute(\"interHTML\")\n",
    "element.click()"
   ]
  },
  {
   "cell_type": "code",
   "execution_count": 122,
   "metadata": {},
   "outputs": [],
   "source": [
    "element = driver.find_element_by_xpath('//*[@id=\"vue_app\"]/div[2]/div[1]/div/div[2]/div[2]/form[1]/div[3]/div/div/p/div/button')\n",
    "element.get_attribute(\"interHTML\")\n",
    "element.click()"
   ]
  },
  {
   "cell_type": "code",
   "execution_count": 123,
   "metadata": {},
   "outputs": [],
   "source": [
    "element = driver.find_element_by_xpath('//*[@id=\"vue_app\"]/div[2]/div[1]/div/div[2]/div[2]/form[1]/div[3]/div/div/div/div/span/input')\n",
    "element.clear()\n",
    "element.send_keys('人工智能')"
   ]
  },
  {
   "cell_type": "code",
   "execution_count": 124,
   "metadata": {},
   "outputs": [],
   "source": [
    "element = driver.find_element_by_xpath('//*[@id=\"vue_app\"]/div[2]/div[1]/div/div[2]/div[2]/form[1]/div[3]/div/div/div/div/span/span/button[2]/div')\n",
    "element.click()"
   ]
  },
  {
   "cell_type": "code",
   "execution_count": 125,
   "metadata": {},
   "outputs": [],
   "source": [
    "element = driver.find_element_by_xpath('//*[@id=\"vue_app\"]/div[2]/div[1]/div/div[2]/div[2]/form[1]/div[3]/div/div/div/div[2]/ul/li[1]/div[1]/strong')\n",
    "element.click()"
   ]
  },
  {
   "cell_type": "code",
   "execution_count": 127,
   "metadata": {},
   "outputs": [
    {
     "data": {
      "text/plain": [
       "['聚焦“十大”丨中国科协第十次全国代表大会在京闭幕',\n",
       " '学会动态丨CAAI积极响应中国科协《关于开展“自立自强 创新争先”行动的倡议》',\n",
       " '倒计时5天丨GAITC 2021来了，专题论坛仅剩少量名额现正火热报名中！',\n",
       " '怀进鹏：实现高水平科技自立自强的总动员',\n",
       " '“十大”之声丨CAAI理事长戴琼海院士：牢记初心使命聚焦国家战略，为祖国贡献更多原创交叉科技成果',\n",
       " '530科技工作者日丨CAAI致敬每一位科技工作者',\n",
       " '530福利丨CAAI庆祝全国科技工作者日“限时免费入会”活动来啦！',\n",
       " '两院院士大会中国科协第十次全国代表大会在京召开 习近平发表重要讲话',\n",
       " 'GAITC 2021专题论坛丨数字时代的隐私安全与秩序',\n",
       " 'GAITC 2021丨华丽阵容！31位中外院士齐聚杭州',\n",
       " 'GAITC 2021专题论坛丨可用、可靠、可信的AI',\n",
       " 'GAITC 2021丨开放报名通道！《普适计算环境的智能人机交互专题论坛》《女科技工作者专题论坛》',\n",
       " 'CICAI 2021丨学术之音，大师合鸣，沈向洋教授、朱松纯教授带你看见AI新趋势',\n",
       " '祝贺丨CAAI脑科学与人工智能专委会副主任吴枫教授荣获IEEE电路与系统学会Mac Van Valkenburg奖',\n",
       " '分支动态丨CAAI生物信息学与智能信息处理2021年学术会议在武汉举行']"
      ]
     },
     "execution_count": 127,
     "metadata": {},
     "output_type": "execute_result"
    }
   ],
   "source": [
    "爬取标题=[i.text for i in  driver.find_elements_by_xpath('//label[@class=\"inner_link_article_item\"]//div[@class=\"inner_link_article_title\"]')]\n",
    "爬取标题"
   ]
  },
  {
   "cell_type": "code",
   "execution_count": 128,
   "metadata": {},
   "outputs": [
    {
     "data": {
      "text/plain": [
       "['2021-05-31',\n",
       " '2021-05-31',\n",
       " '2021-05-31',\n",
       " '2021-05-30',\n",
       " '2021-05-30',\n",
       " '2021-05-30',\n",
       " '2021-05-30',\n",
       " '2021-05-29',\n",
       " '2021-05-29',\n",
       " '2021-05-28',\n",
       " '2021-05-28',\n",
       " '2021-05-28',\n",
       " '2021-05-27',\n",
       " '2021-05-27',\n",
       " '2021-05-27']"
      ]
     },
     "execution_count": 128,
     "metadata": {},
     "output_type": "execute_result"
    }
   ],
   "source": [
    "爬取时间=[i.text for i in  driver.find_elements_by_xpath('//label[@class=\"inner_link_article_item\"]//div[@class=\"inner_link_article_date\"]')]\n",
    "爬取时间"
   ]
  },
  {
   "cell_type": "code",
   "execution_count": 129,
   "metadata": {},
   "outputs": [
    {
     "data": {
      "text/plain": [
       "['http://mp.weixin.qq.com/s?__biz=MjM5ODIwNjEzNQ==&mid=2649830475&idx=1&sn=28ee37f9bae6a467049f87f951f969c5&chksm=becbdb9389bc528567b378704fb1a00cd151577b7f143f6454a50c7c383fec391c56567b99e4#rd',\n",
       " 'http://mp.weixin.qq.com/s?__biz=MjM5ODIwNjEzNQ==&mid=2649830475&idx=2&sn=1a51994241f5b67e23e5413a057caf96&chksm=becbdb9389bc5285bef1be9bdbfe9e442bc7ca0f556753a668402cee20a30cfd8b43609ba83e#rd',\n",
       " 'http://mp.weixin.qq.com/s?__biz=MjM5ODIwNjEzNQ==&mid=2649830475&idx=3&sn=b6a60862562dbbfdd50855446d07613f&chksm=becbdb9389bc52857e7e8b39a001ccc1b81625a647a448f648b2467005a33273acf1ce9f0c29#rd',\n",
       " 'http://mp.weixin.qq.com/s?__biz=MjM5ODIwNjEzNQ==&mid=2649830418&idx=1&sn=aebb1b1832fbe0da9ade76641675a5a4&chksm=becbdbca89bc52dc4a180ba4a5e200a20d3af8dc7bc1dcec10b03239262295402e707461c233#rd',\n",
       " 'http://mp.weixin.qq.com/s?__biz=MjM5ODIwNjEzNQ==&mid=2649830418&idx=2&sn=2bc58892d209b44bf776dc2df62c96d0&chksm=becbdbca89bc52dcdafb805c6969cad29b8ab72836177859e7c81e31826203c53a8bc7ff5e14#rd',\n",
       " 'http://mp.weixin.qq.com/s?__biz=MjM5ODIwNjEzNQ==&mid=2649830418&idx=3&sn=5d7c28f4290524c088e2f674f5cf5814&chksm=becbdbca89bc52dc1aff3d2bc5178ddb02a92b197530619e1c54203296104d93b0b7bdd62451#rd',\n",
       " 'http://mp.weixin.qq.com/s?__biz=MjM5ODIwNjEzNQ==&mid=2649830418&idx=4&sn=e676ad98f855ae873f0000d7cbbc160d&chksm=becbdbca89bc52dcc2162b36513842306ecc0a3af0bd1af3e87f4fb0ba4c829c3dcd74494713#rd',\n",
       " 'http://mp.weixin.qq.com/s?__biz=MjM5ODIwNjEzNQ==&mid=2649830369&idx=1&sn=a01ab6e0050976e965e262cc1ad29661&chksm=becbdc3989bc552f92990fc298b9d0082a02dad7ea09d6662ca5c5f17d273c4cf9ae74d28335#rd',\n",
       " 'http://mp.weixin.qq.com/s?__biz=MjM5ODIwNjEzNQ==&mid=2649830369&idx=2&sn=15a51433187d20c7b4625aeefd84c592&chksm=becbdc3989bc552f57a21bec999e1db9ff72eaf6489db51d6cdb1f593e1855596fc326e9680c#rd',\n",
       " 'http://mp.weixin.qq.com/s?__biz=MjM5ODIwNjEzNQ==&mid=2649830315&idx=1&sn=86c42a41575f7de99e357f76c07407fa&chksm=becbdc7389bc5565fdb98e44b3f144a2172b374e6f421dcbc32dfc18f163bc557a07f0e8e453#rd',\n",
       " 'http://mp.weixin.qq.com/s?__biz=MjM5ODIwNjEzNQ==&mid=2649830315&idx=2&sn=f1fa605ef19eaabd9998c52464cc67ad&chksm=becbdc7389bc5565007d0d7be3069472c29983328f6109616da0a92d609a3b285d9a701b69ed#rd',\n",
       " 'http://mp.weixin.qq.com/s?__biz=MjM5ODIwNjEzNQ==&mid=2649830315&idx=3&sn=12dc904034c84217b828c13ca9e3213d&chksm=becbdc7389bc55655f4912be4b3144230e00b5195f2a5ba2e82195f346e8ab782f198e7a4bdd#rd',\n",
       " 'http://mp.weixin.qq.com/s?__biz=MjM5ODIwNjEzNQ==&mid=2649830203&idx=1&sn=ff2443d48437d77bf859917abd6cdb38&chksm=becbdce389bc55f50e6e7cacf8fddbff909c6769f16d2632c80063288780d4ecc35ee9b3b2ea#rd',\n",
       " 'http://mp.weixin.qq.com/s?__biz=MjM5ODIwNjEzNQ==&mid=2649830203&idx=2&sn=78bafd073ba45922e60e0cc23e28016b&chksm=becbdce389bc55f58b060e7d05141bdc8779ccb15e9246c7a36e79046c4230f381c0d298115b#rd',\n",
       " 'http://mp.weixin.qq.com/s?__biz=MjM5ODIwNjEzNQ==&mid=2649830203&idx=3&sn=77d29a7a8db9eec229fcef2ad1dd2a1d&chksm=becbdce389bc55f546ff5b4b6704f8b75ecbb790659f0c1869055c9dcf6284386d673fc7288c#rd']"
      ]
     },
     "execution_count": 129,
     "metadata": {},
     "output_type": "execute_result"
    }
   ],
   "source": [
    "超链接= [a.get_attribute(\"href\")for a in driver.find_elements_by_xpath('//div[@class=\"weui-desktop-radio-group\"]//span[@class=\"weui-desktop-vm_default\"]//a')]\n",
    "超链接"
   ]
  },
  {
   "cell_type": "code",
   "execution_count": 130,
   "metadata": {},
   "outputs": [],
   "source": [
    "跳转页数 =  driver.find_element_by_xpath('//*[@id=\"vue_app\"]/div[2]/div[1]/div/div[2]/div[2]/form[1]/div[4]/div/div/div[3]/span[2]/input')\n",
    "跳转页数.clear()\n",
    "跳转页数.send_keys(\"5\")"
   ]
  },
  {
   "cell_type": "code",
   "execution_count": 131,
   "metadata": {},
   "outputs": [],
   "source": [
    "跳转 = driver.find_element_by_xpath('//*[@id=\"vue_app\"]/div[2]/div[1]/div/div[2]/div[2]/form[1]/div[4]/div/div/div[3]/span[2]/a')\n",
    "跳转.get_attribute('innerHTML')\n",
    "跳转.click()"
   ]
  },
  {
   "cell_type": "code",
   "execution_count": 132,
   "metadata": {},
   "outputs": [],
   "source": [
    " from selenium import webdriver\n",
    " from selenium.webdriver.support.wait import WebDriverWait\n",
    " from selenium.webdriver.support import expected_conditions as EC\n",
    " from selenium.webdriver.common.by import By\n",
    " import time"
   ]
  },
  {
   "cell_type": "code",
   "execution_count": 1,
   "metadata": {},
   "outputs": [],
   "source": [
    "import pandas as pd "
   ]
  },
  {
   "cell_type": "code",
   "execution_count": null,
   "metadata": {},
   "outputs": [],
   "source": [
    "\n",
    "for a in range(1,20):\n",
    "    WebDriverWait(driver,6).until(EC.visibility_of_element_located((By.XPATH,'//*[@id=\"vue_app\"]/div[2]/div[1]/div/div[2]/div[2]/form[1]/div[4]/div/div/div[3]/span[2]/input')))\n",
    "    跳转框 =  driver.find_element_by_xpath('//input[@class=\"weui-desktop-pagination__input\"]')\n",
    "    跳转框.clear()\n",
    "    跳转框.send_keys(a)\n",
    "    driver.find_element_by_xpath('//*[@id=\"vue_app\"]/div[2]/div[1]/div/div[2]/div[2]/form[1]/div[4]/div/div/div[3]/span[2]/a').click()\n",
    "    time.sleep(6)\n",
    "    dict={\n",
    "                \n",
    "    \"标题\":[i.text for i in  driver.find_elements_by_xpath('//label[@class=\"inner_link_article_item\"]//div[@class=\"inner_link_article_title\"]')],\n",
    "    \"时间\":[i.text for i in  driver.find_elements_by_xpath('//label[@class=\"inner_link_article_item\"]//div[@class=\"inner_link_article_date\"]')],\n",
    "    \"链接\": [a.get_attribute(\"href\")for a in driver.find_elements_by_xpath('//div[@class=\"weui-desktop-radio-group\"]//span[@class=\"weui-desktop-vm_default\"]//a')],\n",
    "    }\n",
    "\n",
    "    数据字典 = {k:v for k,v in dict.items()}\n",
    "    数据 = pd.DataFrame(数据字典)\n",
    "    print(数据)"
   ]
  },
  {
   "cell_type": "code",
   "execution_count": null,
   "metadata": {},
   "outputs": [],
   "source": []
  },
  {
   "cell_type": "code",
   "execution_count": null,
   "metadata": {},
   "outputs": [],
   "source": []
  },
  {
   "cell_type": "code",
   "execution_count": null,
   "metadata": {},
   "outputs": [],
   "source": []
  }
 ],
 "metadata": {
  "kernelspec": {
   "display_name": "Python 3",
   "language": "python",
   "name": "python3"
  },
  "language_info": {
   "codemirror_mode": {
    "name": "ipython",
    "version": 3
   },
   "file_extension": ".py",
   "mimetype": "text/x-python",
   "name": "python",
   "nbconvert_exporter": "python",
   "pygments_lexer": "ipython3",
   "version": "3.8.5"
  },
  "toc": {
   "base_numbering": 1,
   "nav_menu": {},
   "number_sections": true,
   "sideBar": true,
   "skip_h1_title": false,
   "title_cell": "Table of Contents",
   "title_sidebar": "Contents",
   "toc_cell": false,
   "toc_position": {},
   "toc_section_display": true,
   "toc_window_display": false
  }
 },
 "nbformat": 4,
 "nbformat_minor": 4
}
